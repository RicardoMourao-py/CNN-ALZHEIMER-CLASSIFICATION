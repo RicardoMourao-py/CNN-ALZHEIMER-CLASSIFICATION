{
 "cells": [
  {
   "cell_type": "code",
   "execution_count": 1,
   "metadata": {},
   "outputs": [],
   "source": [
    "import nibabel as nib\n",
    "import matplotlib.pyplot as plt\n",
    "import os\n",
    "import numpy as np\n",
    "import pandas as pd"
   ]
  },
  {
   "cell_type": "code",
   "execution_count": 2,
   "id": "ff1c75ad",
   "metadata": {},
   "outputs": [],
   "source": [
    "def type_dementia(paciente):\n",
    "    df = pd.read_csv(\"docs/oasis_cross-sectional.csv\", sep=\",\")\n",
    "    df_none= df[df['CDR'].isna()]                     # 201 rows\n",
    "    df_non_demented = df.loc[df.CDR == 0.0, :]        # 135 rows\n",
    "    df_very_mild_dementia = df.loc[df.CDR == 0.5, :]  # 70 rows\n",
    "    df_mild_dementia = df.loc[df.CDR == 1.0, :]       # 28 rows\n",
    "    df_moderate_dementia = df.loc[df.CDR == 2.0, :]   # 2 rows\n",
    "    \n",
    "    lista_none = list(df_none['ID'].apply(lambda x: x[5:9]))\n",
    "    lista_non_demented = list(df_non_demented['ID'].apply(lambda x: x[5:9]))\n",
    "    lista_very_mild_dementia = list(df_very_mild_dementia['ID'].apply(lambda x: x[5:9]))\n",
    "    lista_mild_dementia = list(df_mild_dementia['ID'].apply(lambda x: x[5:9]))\n",
    "    lista_moderate_dementia = list(df_moderate_dementia['ID'].apply(lambda x: x[5:9]))\n",
    "\n",
    "    if paciente in lista_none:\n",
    "        return 'None'\n",
    "    if paciente in lista_non_demented:\n",
    "        return 'NonDemented'\n",
    "    if paciente in lista_very_mild_dementia:\n",
    "        return 'VeryMildDemented'\n",
    "    if paciente in lista_mild_dementia:\n",
    "        return 'MildDemented'\n",
    "    if paciente in lista_moderate_dementia:\n",
    "        return 'ModerateDemented'"
   ]
  },
  {
   "cell_type": "code",
   "execution_count": 3,
   "id": "a0f41d37",
   "metadata": {},
   "outputs": [],
   "source": [
    "def nifti_to_png(nifti_file, output_folder, paciente):\n",
    "    # Carregar o arquivo NIfTI\n",
    "    nifti_image = nib.load(nifti_file)\n",
    "    data = nifti_image.get_fdata()\n",
    "\n",
    "    # Criar a pasta de saída se ela não existir\n",
    "    if not os.path.exists(output_folder):\n",
    "        os.makedirs(output_folder)\n",
    "\n",
    "    # Salvar cada fatia como PNG\n",
    "    for slice_idx in range(data.shape[2]):\n",
    "        if slice_idx in range(70, 106):\n",
    "            plt.figure(figsize=(10, 10))\n",
    "            plt.imshow(np.rot90(data[:, :, slice_idx]), cmap=\"gray\")\n",
    "            plt.axis('off')\n",
    "            \n",
    "            # Define o nome do arquivo PNG\n",
    "            output_filename = os.path.join(output_folder, f\"{paciente}_{slice_idx}.png\")\n",
    "            \n",
    "            plt.savefig(output_filename, bbox_inches='tight', pad_inches=0)\n",
    "            plt.close()\n",
    "\n",
    "# Uso do código\n",
    "#nifti_file_path = './oasis_cross-sectional_disc1/disc1/OAS1_0002_MR1/PROCESSED/MPRAGE/T88_111/OAS1_0002_MR1_mpr_n4_anon_111_t88_masked_gfc.hdr'  # Substitua pelo caminho do seu arquivo NIfTI\n",
    "#output_folder_path = './OAS1_0002_MR1'     # Substitua pelo caminho da pasta onde você deseja salvar as imagens PNG\n",
    "\n",
    "#nifti_to_png(nifti_file_path, output_folder_path)"
   ]
  },
  {
   "cell_type": "code",
   "execution_count": 21,
   "metadata": {},
   "outputs": [],
   "source": [
    "disco = \"disc12\"\n",
    "list_subfolders = os.listdir(f\".\\oasis_cross-sectional_{disco}\\{disco}\")\n",
    "for i in list_subfolders:\n",
    "    path_father = f\".\\oasis_cross-sectional_{disco}\\{disco}\\{i}\\PROCESSED\\MPRAGE\\T88_111\"\n",
    "    files_hdr = list(filter(lambda f: f.endswith('.hdr') and 'masked' in f, os.listdir(path_father)))\n",
    "\n",
    "    nifti_file_path = f\"{path_father}\\{files_hdr[0]}\"\n",
    "    \n",
    "    paciente = i[5:9]\n",
    "    if type_dementia(paciente) == 'NonDemented':\n",
    "        output_folder_path = f'./data_slices/NonDemented'\n",
    "        nifti_to_png(nifti_file_path, output_folder_path, paciente) \n",
    "    elif type_dementia(paciente) == 'VeryMildDemented':\n",
    "        output_folder_path = f'./data_slices/VeryMildDemented'\n",
    "        nifti_to_png(nifti_file_path, output_folder_path, paciente) \n",
    "    elif type_dementia(paciente) == 'MildDemented':\n",
    "        output_folder_path = f'./data_slices/MildDemented'\n",
    "        nifti_to_png(nifti_file_path, output_folder_path, paciente) \n",
    "    elif type_dementia(paciente) == 'ModerateDemented':\n",
    "        output_folder_path = f'./data_slices/ModerateDemented' \n",
    "        nifti_to_png(nifti_file_path, output_folder_path, paciente) \n",
    "                "
   ]
  },
  {
   "cell_type": "code",
   "execution_count": 15,
   "metadata": {},
   "outputs": [
    {
     "data": {
      "text/plain": [
       "['OAS1_0254_MR1_mpr_n6_anon_111_t88_masked_gfc.hdr']"
      ]
     },
     "execution_count": 15,
     "metadata": {},
     "output_type": "execute_result"
    }
   ],
   "source": [
    "files_hdr = list(filter(lambda f: f.endswith('.hdr') and 'masked' in f, os.listdir(\".\\oasis_cross-sectional_disc7\\disc7\\OAS1_0254_MR1\\PROCESSED\\MPRAGE\\T88_111\")))\n",
    "files_hdr"
   ]
  },
  {
   "cell_type": "code",
   "execution_count": 13,
   "metadata": {},
   "outputs": [
    {
     "data": {
      "text/plain": [
       "['OAS1_0254_MR1_mpr_n6_anon_111_t88_gfc.hdr',\n",
       " 'OAS1_0254_MR1_mpr_n6_anon_111_t88_gfc.img',\n",
       " 'OAS1_0254_MR1_mpr_n6_anon_111_t88_gfc_cor_110.gif',\n",
       " 'OAS1_0254_MR1_mpr_n6_anon_111_t88_gfc_sag_95.gif',\n",
       " 'OAS1_0254_MR1_mpr_n6_anon_111_t88_gfc_tra_90.gif',\n",
       " 'OAS1_0254_MR1_mpr_n6_anon_111_t88_masked_gfc.hdr',\n",
       " 'OAS1_0254_MR1_mpr_n6_anon_111_t88_masked_gfc.img',\n",
       " 'OAS1_0254_MR1_mpr_n6_anon_111_t88_masked_gfc_tra_90.gif',\n",
       " 't4_files']"
      ]
     },
     "execution_count": 13,
     "metadata": {},
     "output_type": "execute_result"
    }
   ],
   "source": [
    "os.listdir(\".\\oasis_cross-sectional_disc7\\disc7\\OAS1_0254_MR1\\PROCESSED\\MPRAGE\\T88_111\")"
   ]
  },
  {
   "cell_type": "code",
   "execution_count": null,
   "id": "1b9cd3eb",
   "metadata": {},
   "outputs": [],
   "source": []
  }
 ],
 "metadata": {
  "kernelspec": {
   "display_name": "Python 3 (ipykernel)",
   "language": "python",
   "name": "python3"
  },
  "language_info": {
   "codemirror_mode": {
    "name": "ipython",
    "version": 3
   },
   "file_extension": ".py",
   "mimetype": "text/x-python",
   "name": "python",
   "nbconvert_exporter": "python",
   "pygments_lexer": "ipython3",
   "version": "3.8.3"
  }
 },
 "nbformat": 4,
 "nbformat_minor": 5
}
